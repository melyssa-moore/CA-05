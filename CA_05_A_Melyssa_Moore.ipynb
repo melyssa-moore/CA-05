{
  "nbformat": 4,
  "nbformat_minor": 0,
  "metadata": {
    "colab": {
      "name": "CA_05_A_Melyssa_Moore.ipynb",
      "provenance": []
    },
    "kernelspec": {
      "name": "python3",
      "display_name": "Python 3"
    },
    "language_info": {
      "name": "python"
    }
  },
  "cells": [
    {
      "cell_type": "code",
      "metadata": {
        "id": "rBp6a5R9jEaL"
      },
      "source": [
        "import pandas as pd\n",
        "import numpy as np\n",
        "from sklearn.model_selection import train_test_split\n",
        "from sklearn import linear_model\n",
        "from sklearn.linear_model import LogisticRegression\n",
        "from sklearn.datasets import load_iris\n",
        "from sklearn import metrics \n",
        "from sklearn.metrics import confusion_matrix\n",
        "from sklearn.metrics import accuracy_score, recall_score, precision_score, f1_score, plot_roc_curve, roc_auc_score, roc_curve, auc"
      ],
      "execution_count": 22,
      "outputs": []
    },
    {
      "cell_type": "code",
      "metadata": {
        "colab": {
          "base_uri": "https://localhost:8080/"
        },
        "id": "K25ZHfWtoe9W",
        "outputId": "0309ca58-d288-427f-a026-bfad198bcdf3"
      },
      "source": [
        "#reading in the data and taking a look at the columns and the data types\n",
        "cvd_data = pd.read_csv('https://raw.githubusercontent.com/ArinB/CA05-B-Logistic-Regression/master/cvd_data.csv')\n",
        "cvd_data.head()\n",
        "cvd_data.info()"
      ],
      "execution_count": 23,
      "outputs": [
        {
          "output_type": "stream",
          "text": [
            "<class 'pandas.core.frame.DataFrame'>\n",
            "RangeIndex: 3242 entries, 0 to 3241\n",
            "Data columns (total 17 columns):\n",
            " #   Column        Non-Null Count  Dtype  \n",
            "---  ------        --------------  -----  \n",
            " 0   cvd_4types    3242 non-null   int64  \n",
            " 1   age_s1        3242 non-null   int64  \n",
            " 2   race          3242 non-null   int64  \n",
            " 3   educat        3242 non-null   int64  \n",
            " 4   mstat         3242 non-null   int64  \n",
            " 5   hip           3242 non-null   float64\n",
            " 6   neck20        3242 non-null   float64\n",
            " 7   waist         3242 non-null   float64\n",
            " 8   av_weight_kg  3242 non-null   float64\n",
            " 9   cgpkyr        3242 non-null   float64\n",
            " 10  tea15         3242 non-null   int64  \n",
            " 11  srhype        3242 non-null   int64  \n",
            " 12  parrptdiab    3242 non-null   int64  \n",
            " 13  bend25        3242 non-null   int64  \n",
            " 14  happy25       3242 non-null   int64  \n",
            " 15  tired25       3242 non-null   int64  \n",
            " 16  hlthlm25      3242 non-null   int64  \n",
            "dtypes: float64(5), int64(12)\n",
            "memory usage: 430.7 KB\n"
          ],
          "name": "stdout"
        }
      ]
    },
    {
      "cell_type": "markdown",
      "metadata": {
        "id": "ieyBEsEtqClO"
      },
      "source": [
        "**Binary Classifier Model Using Logisitic Regression**"
      ]
    },
    {
      "cell_type": "code",
      "metadata": {
        "colab": {
          "base_uri": "https://localhost:8080/",
          "height": 402
        },
        "id": "LAH9R5XSq1Iu",
        "outputId": "50232ead-af4b-4f03-d0ad-7ac020f2f144"
      },
      "source": [
        "#splitting the data\n",
        "x = cvd_data.iloc[:,1:17]\n",
        "y = cvd_data[['cvd_4types']]\n",
        "y\n",
        "x_train, x_test, y_train,y_test = train_test_split(x,y,random_state=3,test_size=.30, stratify=y)\n",
        "x_train"
      ],
      "execution_count": 24,
      "outputs": [
        {
          "output_type": "execute_result",
          "data": {
            "text/html": [
              "<div>\n",
              "<style scoped>\n",
              "    .dataframe tbody tr th:only-of-type {\n",
              "        vertical-align: middle;\n",
              "    }\n",
              "\n",
              "    .dataframe tbody tr th {\n",
              "        vertical-align: top;\n",
              "    }\n",
              "\n",
              "    .dataframe thead th {\n",
              "        text-align: right;\n",
              "    }\n",
              "</style>\n",
              "<table border=\"1\" class=\"dataframe\">\n",
              "  <thead>\n",
              "    <tr style=\"text-align: right;\">\n",
              "      <th></th>\n",
              "      <th>age_s1</th>\n",
              "      <th>race</th>\n",
              "      <th>educat</th>\n",
              "      <th>mstat</th>\n",
              "      <th>hip</th>\n",
              "      <th>neck20</th>\n",
              "      <th>waist</th>\n",
              "      <th>av_weight_kg</th>\n",
              "      <th>cgpkyr</th>\n",
              "      <th>tea15</th>\n",
              "      <th>srhype</th>\n",
              "      <th>parrptdiab</th>\n",
              "      <th>bend25</th>\n",
              "      <th>happy25</th>\n",
              "      <th>tired25</th>\n",
              "      <th>hlthlm25</th>\n",
              "    </tr>\n",
              "  </thead>\n",
              "  <tbody>\n",
              "    <tr>\n",
              "      <th>2311</th>\n",
              "      <td>60</td>\n",
              "      <td>1</td>\n",
              "      <td>2</td>\n",
              "      <td>1</td>\n",
              "      <td>93.98</td>\n",
              "      <td>32.0</td>\n",
              "      <td>90.17</td>\n",
              "      <td>81.8</td>\n",
              "      <td>2.00</td>\n",
              "      <td>0</td>\n",
              "      <td>0</td>\n",
              "      <td>0</td>\n",
              "      <td>3</td>\n",
              "      <td>4</td>\n",
              "      <td>4</td>\n",
              "      <td>1</td>\n",
              "    </tr>\n",
              "    <tr>\n",
              "      <th>2669</th>\n",
              "      <td>65</td>\n",
              "      <td>1</td>\n",
              "      <td>2</td>\n",
              "      <td>1</td>\n",
              "      <td>115.00</td>\n",
              "      <td>37.0</td>\n",
              "      <td>112.00</td>\n",
              "      <td>81.8</td>\n",
              "      <td>0.00</td>\n",
              "      <td>0</td>\n",
              "      <td>0</td>\n",
              "      <td>0</td>\n",
              "      <td>2</td>\n",
              "      <td>2</td>\n",
              "      <td>4</td>\n",
              "      <td>3</td>\n",
              "    </tr>\n",
              "    <tr>\n",
              "      <th>1927</th>\n",
              "      <td>58</td>\n",
              "      <td>1</td>\n",
              "      <td>2</td>\n",
              "      <td>1</td>\n",
              "      <td>113.00</td>\n",
              "      <td>40.0</td>\n",
              "      <td>115.00</td>\n",
              "      <td>90.3</td>\n",
              "      <td>2.20</td>\n",
              "      <td>0</td>\n",
              "      <td>0</td>\n",
              "      <td>0</td>\n",
              "      <td>2</td>\n",
              "      <td>2</td>\n",
              "      <td>6</td>\n",
              "      <td>4</td>\n",
              "    </tr>\n",
              "    <tr>\n",
              "      <th>2586</th>\n",
              "      <td>72</td>\n",
              "      <td>1</td>\n",
              "      <td>1</td>\n",
              "      <td>1</td>\n",
              "      <td>94.00</td>\n",
              "      <td>41.0</td>\n",
              "      <td>93.00</td>\n",
              "      <td>82.2</td>\n",
              "      <td>23.00</td>\n",
              "      <td>0</td>\n",
              "      <td>0</td>\n",
              "      <td>0</td>\n",
              "      <td>2</td>\n",
              "      <td>2</td>\n",
              "      <td>4</td>\n",
              "      <td>4</td>\n",
              "    </tr>\n",
              "    <tr>\n",
              "      <th>2209</th>\n",
              "      <td>55</td>\n",
              "      <td>1</td>\n",
              "      <td>2</td>\n",
              "      <td>1</td>\n",
              "      <td>107.95</td>\n",
              "      <td>43.5</td>\n",
              "      <td>106.68</td>\n",
              "      <td>87.8</td>\n",
              "      <td>18.00</td>\n",
              "      <td>0</td>\n",
              "      <td>0</td>\n",
              "      <td>0</td>\n",
              "      <td>3</td>\n",
              "      <td>2</td>\n",
              "      <td>6</td>\n",
              "      <td>5</td>\n",
              "    </tr>\n",
              "    <tr>\n",
              "      <th>...</th>\n",
              "      <td>...</td>\n",
              "      <td>...</td>\n",
              "      <td>...</td>\n",
              "      <td>...</td>\n",
              "      <td>...</td>\n",
              "      <td>...</td>\n",
              "      <td>...</td>\n",
              "      <td>...</td>\n",
              "      <td>...</td>\n",
              "      <td>...</td>\n",
              "      <td>...</td>\n",
              "      <td>...</td>\n",
              "      <td>...</td>\n",
              "      <td>...</td>\n",
              "      <td>...</td>\n",
              "      <td>...</td>\n",
              "    </tr>\n",
              "    <tr>\n",
              "      <th>2661</th>\n",
              "      <td>69</td>\n",
              "      <td>3</td>\n",
              "      <td>4</td>\n",
              "      <td>1</td>\n",
              "      <td>97.00</td>\n",
              "      <td>37.0</td>\n",
              "      <td>96.00</td>\n",
              "      <td>82.3</td>\n",
              "      <td>0.00</td>\n",
              "      <td>0</td>\n",
              "      <td>1</td>\n",
              "      <td>1</td>\n",
              "      <td>3</td>\n",
              "      <td>2</td>\n",
              "      <td>5</td>\n",
              "      <td>4</td>\n",
              "    </tr>\n",
              "    <tr>\n",
              "      <th>156</th>\n",
              "      <td>57</td>\n",
              "      <td>1</td>\n",
              "      <td>2</td>\n",
              "      <td>1</td>\n",
              "      <td>109.00</td>\n",
              "      <td>47.5</td>\n",
              "      <td>108.00</td>\n",
              "      <td>85.1</td>\n",
              "      <td>0.00</td>\n",
              "      <td>2</td>\n",
              "      <td>1</td>\n",
              "      <td>0</td>\n",
              "      <td>2</td>\n",
              "      <td>1</td>\n",
              "      <td>4</td>\n",
              "      <td>4</td>\n",
              "    </tr>\n",
              "    <tr>\n",
              "      <th>818</th>\n",
              "      <td>75</td>\n",
              "      <td>1</td>\n",
              "      <td>2</td>\n",
              "      <td>1</td>\n",
              "      <td>93.00</td>\n",
              "      <td>32.0</td>\n",
              "      <td>73.00</td>\n",
              "      <td>74.5</td>\n",
              "      <td>3.30</td>\n",
              "      <td>0</td>\n",
              "      <td>0</td>\n",
              "      <td>0</td>\n",
              "      <td>1</td>\n",
              "      <td>4</td>\n",
              "      <td>5</td>\n",
              "      <td>4</td>\n",
              "    </tr>\n",
              "    <tr>\n",
              "      <th>2271</th>\n",
              "      <td>68</td>\n",
              "      <td>1</td>\n",
              "      <td>2</td>\n",
              "      <td>1</td>\n",
              "      <td>83.82</td>\n",
              "      <td>30.0</td>\n",
              "      <td>67.00</td>\n",
              "      <td>98.8</td>\n",
              "      <td>0.00</td>\n",
              "      <td>0</td>\n",
              "      <td>0</td>\n",
              "      <td>0</td>\n",
              "      <td>1</td>\n",
              "      <td>2</td>\n",
              "      <td>2</td>\n",
              "      <td>3</td>\n",
              "    </tr>\n",
              "    <tr>\n",
              "      <th>1357</th>\n",
              "      <td>81</td>\n",
              "      <td>1</td>\n",
              "      <td>2</td>\n",
              "      <td>1</td>\n",
              "      <td>97.00</td>\n",
              "      <td>40.5</td>\n",
              "      <td>103.00</td>\n",
              "      <td>82.7</td>\n",
              "      <td>2.25</td>\n",
              "      <td>0</td>\n",
              "      <td>0</td>\n",
              "      <td>0</td>\n",
              "      <td>3</td>\n",
              "      <td>1</td>\n",
              "      <td>5</td>\n",
              "      <td>4</td>\n",
              "    </tr>\n",
              "  </tbody>\n",
              "</table>\n",
              "<p>2269 rows × 16 columns</p>\n",
              "</div>"
            ],
            "text/plain": [
              "      age_s1  race  educat  mstat  ...  bend25  happy25  tired25  hlthlm25\n",
              "2311      60     1       2      1  ...       3        4        4         1\n",
              "2669      65     1       2      1  ...       2        2        4         3\n",
              "1927      58     1       2      1  ...       2        2        6         4\n",
              "2586      72     1       1      1  ...       2        2        4         4\n",
              "2209      55     1       2      1  ...       3        2        6         5\n",
              "...      ...   ...     ...    ...  ...     ...      ...      ...       ...\n",
              "2661      69     3       4      1  ...       3        2        5         4\n",
              "156       57     1       2      1  ...       2        1        4         4\n",
              "818       75     1       2      1  ...       1        4        5         4\n",
              "2271      68     1       2      1  ...       1        2        2         3\n",
              "1357      81     1       2      1  ...       3        1        5         4\n",
              "\n",
              "[2269 rows x 16 columns]"
            ]
          },
          "metadata": {
            "tags": []
          },
          "execution_count": 24
        }
      ]
    },
    {
      "cell_type": "code",
      "metadata": {
        "colab": {
          "base_uri": "https://localhost:8080/"
        },
        "id": "ZN6md_3dnyGm",
        "outputId": "9938418e-4248-4d96-b9b3-e048df96764d"
      },
      "source": [
        "#using the data above for the Logistic Regression Model \n",
        "model = LogisticRegression(C=1e40, solver='newton-cg',penalty='l2')\n",
        "model.fit(x_train, y_train)\n",
        "#prediction\n",
        "prediction_result = model.predict(x_test)\n",
        "prediction_result"
      ],
      "execution_count": 25,
      "outputs": [
        {
          "output_type": "stream",
          "text": [
            "/usr/local/lib/python3.7/dist-packages/sklearn/utils/validation.py:760: DataConversionWarning: A column-vector y was passed when a 1d array was expected. Please change the shape of y to (n_samples, ), for example using ravel().\n",
            "  y = column_or_1d(y, warn=True)\n"
          ],
          "name": "stderr"
        },
        {
          "output_type": "execute_result",
          "data": {
            "text/plain": [
              "array([1, 1, 0, 1, 1, 0, 1, 0, 0, 1, 1, 0, 1, 1, 1, 1, 1, 1, 1, 0, 0, 0,\n",
              "       1, 1, 1, 0, 1, 0, 1, 1, 1, 1, 0, 0, 1, 1, 1, 1, 1, 1, 1, 1, 1, 0,\n",
              "       1, 0, 0, 1, 1, 1, 1, 1, 1, 1, 1, 0, 1, 0, 1, 1, 0, 1, 1, 1, 1, 1,\n",
              "       1, 1, 1, 1, 0, 0, 1, 1, 0, 1, 1, 1, 1, 0, 1, 0, 1, 1, 1, 1, 0, 1,\n",
              "       1, 1, 0, 1, 1, 1, 1, 1, 1, 1, 1, 0, 1, 1, 0, 1, 1, 1, 1, 1, 1, 1,\n",
              "       1, 0, 0, 0, 0, 0, 1, 1, 0, 1, 1, 1, 0, 1, 1, 0, 1, 1, 1, 1, 1, 1,\n",
              "       1, 0, 0, 1, 1, 0, 1, 0, 1, 1, 1, 0, 1, 1, 1, 1, 0, 0, 1, 0, 1, 0,\n",
              "       1, 1, 1, 1, 1, 1, 1, 0, 1, 0, 1, 1, 1, 0, 0, 1, 1, 1, 1, 1, 1, 1,\n",
              "       1, 0, 1, 1, 1, 1, 1, 1, 1, 1, 1, 0, 1, 1, 0, 0, 1, 1, 0, 1, 1, 1,\n",
              "       0, 1, 1, 1, 0, 1, 0, 0, 1, 1, 1, 1, 0, 1, 1, 1, 0, 0, 1, 1, 1, 0,\n",
              "       1, 1, 0, 1, 1, 1, 1, 1, 1, 1, 1, 0, 1, 1, 1, 1, 1, 1, 0, 1, 1, 1,\n",
              "       1, 0, 1, 1, 0, 1, 1, 0, 1, 1, 1, 1, 1, 1, 1, 0, 0, 1, 0, 1, 1, 1,\n",
              "       1, 0, 1, 0, 1, 1, 1, 1, 0, 0, 0, 0, 1, 1, 0, 1, 1, 0, 1, 1, 1, 0,\n",
              "       1, 1, 0, 0, 1, 1, 1, 0, 0, 1, 0, 1, 1, 0, 0, 0, 1, 1, 0, 0, 1, 0,\n",
              "       0, 1, 0, 0, 1, 1, 1, 1, 0, 1, 1, 1, 1, 1, 0, 1, 1, 1, 0, 0, 1, 0,\n",
              "       1, 1, 1, 1, 1, 1, 0, 0, 1, 1, 0, 1, 1, 1, 1, 0, 0, 1, 1, 0, 0, 1,\n",
              "       0, 1, 1, 0, 0, 1, 0, 1, 1, 1, 0, 1, 1, 1, 1, 1, 1, 1, 1, 1, 0, 1,\n",
              "       1, 0, 1, 1, 1, 1, 1, 1, 0, 1, 1, 1, 1, 0, 0, 1, 1, 1, 1, 0, 1, 0,\n",
              "       0, 1, 1, 1, 1, 1, 1, 1, 1, 1, 1, 0, 1, 1, 1, 0, 1, 1, 1, 1, 1, 1,\n",
              "       1, 1, 1, 0, 1, 1, 1, 1, 1, 0, 1, 1, 1, 1, 1, 1, 1, 1, 1, 1, 0, 0,\n",
              "       0, 1, 1, 1, 1, 0, 1, 1, 1, 1, 0, 1, 1, 0, 1, 0, 1, 1, 1, 1, 1, 1,\n",
              "       1, 1, 1, 1, 1, 1, 1, 1, 1, 0, 0, 0, 1, 0, 1, 1, 0, 1, 1, 1, 1, 1,\n",
              "       1, 0, 1, 1, 0, 1, 0, 0, 1, 1, 0, 0, 1, 1, 0, 0, 1, 0, 1, 1, 1, 1,\n",
              "       1, 1, 1, 1, 1, 1, 0, 1, 0, 0, 1, 0, 1, 1, 1, 0, 1, 1, 1, 1, 1, 1,\n",
              "       0, 1, 1, 0, 1, 1, 1, 1, 0, 1, 1, 1, 0, 0, 1, 0, 0, 1, 1, 1, 1, 0,\n",
              "       1, 1, 0, 1, 1, 1, 1, 0, 1, 1, 1, 0, 1, 1, 1, 0, 0, 1, 1, 1, 1, 1,\n",
              "       0, 1, 1, 1, 1, 1, 0, 1, 1, 1, 1, 1, 0, 0, 1, 0, 1, 1, 1, 1, 1, 0,\n",
              "       0, 1, 0, 0, 1, 0, 0, 1, 1, 1, 1, 0, 0, 0, 0, 1, 0, 1, 1, 1, 0, 1,\n",
              "       1, 1, 1, 1, 1, 1, 1, 1, 1, 0, 1, 0, 1, 1, 1, 0, 1, 1, 0, 0, 0, 0,\n",
              "       0, 1, 1, 1, 1, 0, 0, 1, 1, 0, 0, 0, 1, 1, 1, 1, 1, 1, 1, 1, 0, 1,\n",
              "       0, 0, 0, 0, 0, 0, 1, 1, 0, 1, 1, 1, 1, 1, 1, 1, 1, 0, 1, 0, 1, 0,\n",
              "       0, 0, 1, 1, 1, 1, 1, 1, 1, 1, 1, 1, 1, 1, 0, 0, 1, 1, 1, 1, 1, 1,\n",
              "       1, 1, 1, 1, 1, 1, 1, 0, 0, 1, 1, 1, 1, 1, 0, 1, 1, 1, 1, 0, 1, 1,\n",
              "       1, 0, 1, 1, 1, 1, 1, 1, 1, 0, 1, 1, 1, 0, 0, 0, 1, 1, 1, 0, 1, 1,\n",
              "       0, 1, 0, 1, 1, 1, 0, 1, 1, 1, 1, 1, 1, 1, 0, 1, 0, 1, 1, 1, 1, 1,\n",
              "       1, 1, 1, 0, 1, 1, 1, 0, 0, 0, 1, 1, 1, 1, 1, 0, 1, 1, 1, 1, 1, 0,\n",
              "       0, 1, 1, 0, 0, 1, 1, 1, 1, 1, 0, 0, 1, 1, 1, 0, 0, 1, 1, 1, 0, 1,\n",
              "       1, 0, 0, 1, 0, 1, 1, 0, 0, 0, 1, 1, 1, 1, 0, 1, 1, 1, 1, 1, 1, 0,\n",
              "       0, 1, 1, 1, 1, 0, 1, 1, 1, 1, 1, 1, 0, 1, 1, 1, 1, 1, 0, 1, 1, 0,\n",
              "       0, 0, 1, 0, 1, 1, 1, 1, 0, 1, 1, 1, 1, 1, 1, 1, 1, 1, 1, 0, 0, 0,\n",
              "       0, 0, 1, 1, 1, 1, 0, 1, 1, 1, 1, 0, 1, 1, 1, 1, 1, 1, 0, 1, 1, 0,\n",
              "       1, 0, 1, 1, 1, 1, 1, 0, 0, 1, 1, 1, 1, 0, 0, 1, 0, 1, 1, 1, 1, 1,\n",
              "       1, 1, 1, 1, 1, 1, 1, 1, 1, 1, 1, 1, 1, 1, 1, 0, 1, 1, 0, 1, 0, 0,\n",
              "       1, 1, 1, 1, 1, 1, 1, 1, 1, 0, 1, 1, 1, 1, 0, 0, 1, 0, 1, 1, 1, 0,\n",
              "       1, 1, 1, 1, 0])"
            ]
          },
          "metadata": {
            "tags": []
          },
          "execution_count": 25
        }
      ]
    },
    {
      "cell_type": "markdown",
      "metadata": {
        "id": "UFzxFwrh4f2o"
      },
      "source": [
        "Feature Importance"
      ]
    },
    {
      "cell_type": "code",
      "metadata": {
        "colab": {
          "base_uri": "https://localhost:8080/"
        },
        "id": "gpNEfcrt5OV5",
        "outputId": "d3fbcb83-ff2c-4858-834d-16d9880ec8c9"
      },
      "source": [
        "#converting the data set to standardized data before the training and then get the coefficients\n",
        "model.fit(x / np.std(x, 0),y) \n",
        "print(model.coef_)\n",
        "\n",
        "#another way to do feature importance? \n",
        "importance = model.coef_[0]\n",
        "# summarize feature importance\n",
        "for i,v in enumerate(importance):\n",
        "\tprint('Feature: %0d, Score: %.5f' % (i,v))"
      ],
      "execution_count": 26,
      "outputs": [
        {
          "output_type": "stream",
          "text": [
            "[[ 7.29048816e-03 -3.72386647e-01  1.83014732e-01 -1.37113159e-01\n",
            "  -6.09559730e-01 -1.85504126e-01  1.13662808e+00 -2.35567505e-01\n",
            "   3.85735531e-04 -6.67102966e-02  7.28744393e-02  1.59857581e-01\n",
            "   8.84047420e-02 -8.35144736e-02  1.17775527e-01 -3.63241660e-01]]\n",
            "Feature: 0, Score: 0.00729\n",
            "Feature: 1, Score: -0.37239\n",
            "Feature: 2, Score: 0.18301\n",
            "Feature: 3, Score: -0.13711\n",
            "Feature: 4, Score: -0.60956\n",
            "Feature: 5, Score: -0.18550\n",
            "Feature: 6, Score: 1.13663\n",
            "Feature: 7, Score: -0.23557\n",
            "Feature: 8, Score: 0.00039\n",
            "Feature: 9, Score: -0.06671\n",
            "Feature: 10, Score: 0.07287\n",
            "Feature: 11, Score: 0.15986\n",
            "Feature: 12, Score: 0.08840\n",
            "Feature: 13, Score: -0.08351\n",
            "Feature: 14, Score: 0.11778\n",
            "Feature: 15, Score: -0.36324\n"
          ],
          "name": "stdout"
        },
        {
          "output_type": "stream",
          "text": [
            "/usr/local/lib/python3.7/dist-packages/sklearn/utils/validation.py:760: DataConversionWarning: A column-vector y was passed when a 1d array was expected. Please change the shape of y to (n_samples, ), for example using ravel().\n",
            "  y = column_or_1d(y, warn=True)\n"
          ],
          "name": "stderr"
        }
      ]
    },
    {
      "cell_type": "code",
      "metadata": {
        "colab": {
          "base_uri": "https://localhost:8080/"
        },
        "id": "cb2C6Ej4ghV9",
        "outputId": "73be6d48-3f0d-4c01-8012-419983900432"
      },
      "source": [
        "sorted_list_coef = pd.DataFrame(model.coef_, columns = x_train.columns, index = ['coefficient'])\n",
        "sorted_list_coef = sorted_list_coef.transpose()\n",
        "sorted_list_coef.coefficient.sort_values(ascending=False)"
      ],
      "execution_count": 32,
      "outputs": [
        {
          "output_type": "execute_result",
          "data": {
            "text/plain": [
              "waist           1.136628\n",
              "educat          0.183015\n",
              "parrptdiab      0.159858\n",
              "tired25         0.117776\n",
              "bend25          0.088405\n",
              "srhype          0.072874\n",
              "age_s1          0.007290\n",
              "cgpkyr          0.000386\n",
              "tea15          -0.066710\n",
              "happy25        -0.083514\n",
              "mstat          -0.137113\n",
              "neck20         -0.185504\n",
              "av_weight_kg   -0.235568\n",
              "hlthlm25       -0.363242\n",
              "race           -0.372387\n",
              "hip            -0.609560\n",
              "Name: coefficient, dtype: float64"
            ]
          },
          "metadata": {
            "tags": []
          },
          "execution_count": 32
        }
      ]
    },
    {
      "cell_type": "markdown",
      "metadata": {
        "id": "autDX5etViQM"
      },
      "source": [
        "Evaluate Performance of the Model"
      ]
    },
    {
      "cell_type": "code",
      "metadata": {
        "colab": {
          "base_uri": "https://localhost:8080/",
          "height": 106
        },
        "id": "0pScJ_uzVkSy",
        "outputId": "619f40e9-1fe5-4ca6-a464-5115006a14db"
      },
      "source": [
        "#metrics to evaluate the performance \n",
        "\n",
        "#making a confusion matrix and making it into dataframe so it's easier to read\n",
        "conf_matrix = pd.DataFrame(confusion_matrix(y_test, prediction_result), index=['True','False'], columns = ['True', 'False'])\n",
        "conf_matrix"
      ],
      "execution_count": 8,
      "outputs": [
        {
          "output_type": "execute_result",
          "data": {
            "text/html": [
              "<div>\n",
              "<style scoped>\n",
              "    .dataframe tbody tr th:only-of-type {\n",
              "        vertical-align: middle;\n",
              "    }\n",
              "\n",
              "    .dataframe tbody tr th {\n",
              "        vertical-align: top;\n",
              "    }\n",
              "\n",
              "    .dataframe thead th {\n",
              "        text-align: right;\n",
              "    }\n",
              "</style>\n",
              "<table border=\"1\" class=\"dataframe\">\n",
              "  <thead>\n",
              "    <tr style=\"text-align: right;\">\n",
              "      <th></th>\n",
              "      <th>True</th>\n",
              "      <th>False</th>\n",
              "    </tr>\n",
              "  </thead>\n",
              "  <tbody>\n",
              "    <tr>\n",
              "      <th>True</th>\n",
              "      <td>192</td>\n",
              "      <td>207</td>\n",
              "    </tr>\n",
              "    <tr>\n",
              "      <th>False</th>\n",
              "      <td>85</td>\n",
              "      <td>489</td>\n",
              "    </tr>\n",
              "  </tbody>\n",
              "</table>\n",
              "</div>"
            ],
            "text/plain": [
              "       True  False\n",
              "True    192    207\n",
              "False    85    489"
            ]
          },
          "metadata": {
            "tags": []
          },
          "execution_count": 8
        }
      ]
    },
    {
      "cell_type": "code",
      "metadata": {
        "colab": {
          "base_uri": "https://localhost:8080/"
        },
        "id": "cLMxFEPqWQc5",
        "outputId": "6aa25afc-65b2-4c1e-8aeb-c72b295e329f"
      },
      "source": [
        "#using the above matrix to make the different values for True Positive, etc. \n",
        "conf_matrix_values = conf_matrix['True'].append(conf_matrix['False'])\n",
        "conf_matrix_values.index = ['TP', 'FP', 'FN', 'TN']\n",
        "conf_matrix_values"
      ],
      "execution_count": 10,
      "outputs": [
        {
          "output_type": "execute_result",
          "data": {
            "text/plain": [
              "TP    192\n",
              "FP     85\n",
              "FN    207\n",
              "TN    489\n",
              "dtype: int64"
            ]
          },
          "metadata": {
            "tags": []
          },
          "execution_count": 10
        }
      ]
    },
    {
      "cell_type": "code",
      "metadata": {
        "colab": {
          "base_uri": "https://localhost:8080/"
        },
        "id": "UnUio6DdbFRA",
        "outputId": "922e01a1-c15e-4507-caac-6c68d99b24d3"
      },
      "source": [
        "#finding the accuracy score \n",
        "acc_score = accuracy_score(y_test, prediction_result)\n",
        "acc_score"
      ],
      "execution_count": 11,
      "outputs": [
        {
          "output_type": "execute_result",
          "data": {
            "text/plain": [
              "0.6998972250770812"
            ]
          },
          "metadata": {
            "tags": []
          },
          "execution_count": 11
        }
      ]
    },
    {
      "cell_type": "code",
      "metadata": {
        "colab": {
          "base_uri": "https://localhost:8080/"
        },
        "id": "KDK3FqCQbxnn",
        "outputId": "32946332-ac99-40c7-b3d9-7f45779ad55a"
      },
      "source": [
        "#finding the f1 score \n",
        "fscore = f1_score(y_test, prediction_result)\n",
        "fscore"
      ],
      "execution_count": 12,
      "outputs": [
        {
          "output_type": "execute_result",
          "data": {
            "text/plain": [
              "0.7700787401574803"
            ]
          },
          "metadata": {
            "tags": []
          },
          "execution_count": 12
        }
      ]
    },
    {
      "cell_type": "code",
      "metadata": {
        "colab": {
          "base_uri": "https://localhost:8080/",
          "height": 296
        },
        "id": "YGXPHYAWcVVt",
        "outputId": "d2b0cf5d-9301-43a8-c019-9d6bc83ed0ee"
      },
      "source": [
        "#plotting the ROC curve\n",
        "plot_roc_curve(model,x_test, y_test)"
      ],
      "execution_count": 13,
      "outputs": [
        {
          "output_type": "execute_result",
          "data": {
            "text/plain": [
              "<sklearn.metrics._plot.roc_curve.RocCurveDisplay at 0x7f644d60c810>"
            ]
          },
          "metadata": {
            "tags": []
          },
          "execution_count": 13
        },
        {
          "output_type": "display_data",
          "data": {
            "image/png": "[encoded data removed]",
            "text/plain": [
              "<Figure size 432x288 with 1 Axes>"
            ]
          },
          "metadata": {
            "tags": [],
            "needs_background": "light"
          }
        }
      ]
    }
  ]
}